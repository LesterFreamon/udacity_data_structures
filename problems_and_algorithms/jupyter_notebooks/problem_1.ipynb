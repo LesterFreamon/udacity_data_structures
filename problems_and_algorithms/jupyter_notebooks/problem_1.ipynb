{
 "cells": [
  {
   "cell_type": "markdown",
   "id": "7d28349f",
   "metadata": {},
   "source": [
    "## Algorithm: \n",
    "\n",
    "There are two special cases where $n = \\sqrt{n}$, and that's when $n=1, 2$. We will deal with these two cases right off the bat.\n",
    "\n",
    "For the rest of the natural numbers, we will start with a space consisting $[1, \\frac{n}{2}]$ since for all other natural numbers, the square root is at most $\\frac{n}{2}$. From that point we will preform a binary search that would either increase the lower bound, if the square is too small, or decrease the upper bound if it is too big.\n",
    "\n",
    "We will also check (n + 1)^2 and (n - 1)^2 when the square is either smaller or bigger from the target, respectively, to avoid bugs.\n",
    "\n",
    "\n"
   ]
  },
  {
   "cell_type": "code",
   "execution_count": 36,
   "id": "803d9638",
   "metadata": {},
   "outputs": [
    {
     "name": "stdout",
     "output_type": "stream",
     "text": [
      "Pass\n",
      "Pass\n",
      "Pass\n",
      "Pass\n",
      "Pass\n",
      "Pass\n",
      "Pass\n",
      "Pass\n"
     ]
    }
   ],
   "source": [
    "def sqrt(number):\n",
    "    \"\"\"\n",
    "    Calculate the floored square root of a number\n",
    "\n",
    "    Args:\n",
    "       number(int): Number to find the floored squared root\n",
    "    Returns:\n",
    "       int: Floored Square Root\n",
    "    \"\"\"\n",
    "    if (number == 0) or (number == 1):\n",
    "        return number\n",
    "        \n",
    "    top_num = number // 2\n",
    "    min_num = 1\n",
    "    run_num = min_num + ((top_num - min_num) // 2)\n",
    "   \n",
    "    while True:\n",
    "        run_num_square = run_num * run_num\n",
    "        if run_num_square == number: # we got the number\n",
    "            return run_num\n",
    "        elif run_num_square < number and ((run_num + 1) ** 2 > number): # n^2 is too small, yet (n+1)^2 is too big\n",
    "            return run_num\n",
    "        elif run_num_square < number: # n^2 is too small, so decrease the search space by cutting top_num\n",
    "            min_num = run_num\n",
    "            run_num = run_num + ((top_num - run_num) // 2)\n",
    "        elif (run_num_square > number) and ((run_num - 1) ** 2 <= number): # n^2 is too big, yet (n-1)^2 is too small\n",
    "            return run_num - 1\n",
    "        else: # n^2 is too big, so decrease the search space by increasing min_num\n",
    "            top_num = run_num\n",
    "            run_num = run_num - ((run_num - min_num) // 2)\n",
    "\n",
    "print (\"Pass\" if  (3 == sqrt(9)) else \"Fail\")\n",
    "print (\"Pass\" if  (0 == sqrt(0)) else \"Fail\")\n",
    "print (\"Pass\" if  (4 == sqrt(16)) else \"Fail\")\n",
    "print (\"Pass\" if  (1 == sqrt(1)) else \"Fail\")\n",
    "print (\"Pass\" if  (5 == sqrt(27)) else \"Fail\")\n",
    "print (\"Pass\" if  (9 == sqrt(99)) else \"Fail\")\n",
    "print (\"Pass\" if  (316264 == sqrt(100023042335)) else \"Fail\")\n",
    "print (\"Pass\" if  (1000115205 == sqrt(1000230423351234123)) else \"Fail\")"
   ]
  },
  {
   "cell_type": "markdown",
   "id": "d0cd59f8",
   "metadata": {},
   "source": [
    "## efficiency\n",
    "\n",
    "### Runtime:\n",
    "This is a binary search, so the number of loop is $O(log(n))$. It's not entirely accurate for very large number because of the squaring that's preformed in every loop, but I ignore that for the problem.\n",
    "\n",
    "### Space:\n",
    "$O(1)$ since there are just three numbers stored (min_num, run_num and top_num)."
   ]
  },
  {
   "cell_type": "code",
   "execution_count": 37,
   "id": "2a0ba6fc",
   "metadata": {},
   "outputs": [
    {
     "name": "stderr",
     "output_type": "stream",
     "text": [
      "test_sqrt (__main__.TestProblems) ... ok\n",
      "\n",
      "----------------------------------------------------------------------\n",
      "Ran 1 test in 0.001s\n",
      "\n",
      "OK\n"
     ]
    },
    {
     "data": {
      "text/plain": [
       "<unittest.main.TestProgram at 0x11128ecd0>"
      ]
     },
     "execution_count": 37,
     "metadata": {},
     "output_type": "execute_result"
    }
   ],
   "source": [
    "import unittest\n",
    "\n",
    "class TestProblems(unittest.TestCase):\n",
    "    def test_sqrt(self):\n",
    "        self.assertEqual(3, sqrt(9))\n",
    "        self.assertEqual(0, sqrt(0))\n",
    "        self.assertEqual(4, sqrt(16))\n",
    "        self.assertEqual(1, sqrt(1))\n",
    "        self.assertEqual(5, sqrt(27))\n",
    "        self.assertEqual(9, sqrt(99))\n",
    "        self.assertEqual(316264, sqrt(100023042335))\n",
    "        self.assertEqual(1000115205, sqrt(1000230423351234123))\n",
    "\n",
    "        \n",
    "        \n",
    "        \n",
    "unittest.main(argv=[''], verbosity=3, exit=False)\n",
    "    "
   ]
  },
  {
   "cell_type": "code",
   "execution_count": null,
   "id": "8b58aaa0",
   "metadata": {},
   "outputs": [],
   "source": []
  }
 ],
 "metadata": {
  "kernelspec": {
   "display_name": "env_deep_py3",
   "language": "python",
   "name": "env_deep_py3"
  },
  "language_info": {
   "codemirror_mode": {
    "name": "ipython",
    "version": 3
   },
   "file_extension": ".py",
   "mimetype": "text/x-python",
   "name": "python",
   "nbconvert_exporter": "python",
   "pygments_lexer": "ipython3",
   "version": "3.9.9"
  }
 },
 "nbformat": 4,
 "nbformat_minor": 5
}
