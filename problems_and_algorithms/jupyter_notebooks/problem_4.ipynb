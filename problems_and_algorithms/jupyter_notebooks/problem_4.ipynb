{
 "cells": [
  {
   "cell_type": "markdown",
   "id": "1d846de0",
   "metadata": {},
   "source": [
    "# Dutch National Flag Problem\n",
    "Given an input array consisting on only 0, 1, and 2, sort the array in a single traversal. You're not allowed to use any sorting function that Python provides.\n",
    "\n",
    "Note: $O(n)$ does not necessarily mean single-traversal. For e.g. if you traverse the array twice, that would still be an $O(n)$ solution but it will not count as single traversal."
   ]
  },
  {
   "cell_type": "markdown",
   "id": "6e44959c",
   "metadata": {},
   "source": [
    "## Algorithm: \n",
    "\n",
    "We can keep count of the number of zeros and ones encountered and that way we can deduce what swaps we need to do for every 0, 1 or 2 value for the array we traverse.\n",
    "\n",
    "* If we encounter a 0, first swap i with num_zeros_found + num_ones_found, then num_zeros_found + num_ones_found, num_zeros_found\n",
    "* If we encounter a 1 swap i with num_zeros_found + num_ones_found\n",
    "* If we encounter a 2 then swap nothing"
   ]
  },
  {
   "cell_type": "code",
   "execution_count": 1,
   "id": "6927c872",
   "metadata": {},
   "outputs": [],
   "source": [
    "from typing import List"
   ]
  },
  {
   "cell_type": "code",
   "execution_count": 6,
   "id": "09936236",
   "metadata": {},
   "outputs": [
    {
     "name": "stdout",
     "output_type": "stream",
     "text": [
      "[0, 0, 0, 1, 1, 1, 2, 2, 2, 2, 2]\n",
      "Pass\n",
      "[0, 0, 0, 0, 0, 0, 0, 0, 0, 0, 0, 1, 1, 1, 1, 1, 1, 2, 2, 2, 2, 2, 2, 2, 2, 2]\n",
      "Pass\n",
      "[0, 0, 0, 0, 0, 0, 1, 1, 1, 1, 1, 1, 2, 2, 2, 2, 2, 2, 2]\n",
      "Pass\n"
     ]
    }
   ],
   "source": [
    "def swap(arr: List[int], i: int, j: int) -> None:\n",
    "    \"\"\"Swap two elements of a given array according the the passed indecies\n",
    "     \n",
    "     Args:\n",
    "       arr(list): A list\n",
    "       i: first index\n",
    "       j: second index\n",
    "    \"\"\"\n",
    "    arr[i], arr[j] = arr[j], arr[i]\n",
    "\n",
    "def sort_012(input_list):\n",
    "    \"\"\"\n",
    "    Given an input array consisting on only 0, 1, and 2, sort the array in a single traversal.\n",
    "\n",
    "    Args:\n",
    "       input_list(list): List to be sorted\n",
    "    \"\"\"\n",
    "    num_zeros_found, num_ones_found = 0, 0\n",
    "    r_i = 0\n",
    "    while r_i < len(input_list):\n",
    "        this_num = input_list[r_i]\n",
    "        if this_num == 0:\n",
    "            swap(input_list, r_i, num_zeros_found + num_ones_found)\n",
    "            swap(input_list, num_zeros_found + num_ones_found, num_zeros_found)\n",
    "            num_zeros_found += 1\n",
    "        elif this_num == 1:\n",
    "            swap(input_list, r_i, num_zeros_found + num_ones_found)\n",
    "            num_ones_found += 1\n",
    "        else:\n",
    "            pass\n",
    "        r_i += 1\n",
    "\n",
    "def test_function(test_case):\n",
    "    sorted_array = sort_012(test_case)\n",
    "    print(sorted_array)\n",
    "    if sorted_array == sorted(test_case):\n",
    "        print(\"Pass\")\n",
    "    else:\n",
    "        print(\"Fail\")\n",
    "\n",
    "test_function([0, 0, 2, 2, 2, 1, 1, 1, 2, 0, 2])\n",
    "test_function([2, 1, 2, 0, 0, 2, 1, 0, 1, 0, 0, 2, 2, 2, 1, 2, 0, 0, 0, 2, 1, 0, 2, 0, 0, 1])\n",
    "test_function([0, 0, 0, 0, 0, 0, 1, 1, 1, 1, 1, 1, 2, 2, 2, 2, 2, 2, 2])"
   ]
  },
  {
   "cell_type": "markdown",
   "id": "a79518d5",
   "metadata": {},
   "source": [
    "## efficiency\n",
    "\n",
    "### Runtime:\n",
    "Since we are doing one traversal, the runtime is $O(n)$\n",
    "\n",
    "### Space:\n",
    "Since we are swapping in place, then additional space needed is $O(1)$"
   ]
  },
  {
   "cell_type": "code",
   "execution_count": 7,
   "id": "65bd620d",
   "metadata": {},
   "outputs": [
    {
     "name": "stderr",
     "output_type": "stream",
     "text": [
      "test_sort_012 (__main__.TestProblems) ... ok\n",
      "\n",
      "----------------------------------------------------------------------\n",
      "Ran 1 test in 0.001s\n",
      "\n",
      "OK\n"
     ]
    },
    {
     "data": {
      "text/plain": [
       "<unittest.main.TestProgram at 0x1066f45b0>"
      ]
     },
     "execution_count": 7,
     "metadata": {},
     "output_type": "execute_result"
    }
   ],
   "source": [
    "import unittest\n",
    "\n",
    "\n",
    "\n",
    "class TestProblems(unittest.TestCase):\n",
    "    def test_sort_012(self):\n",
    "        input_list = [0, 0, 2, 2, 2, 1, 1, 1, 2, 0, 2]\n",
    "        sorted_list = sorted(input_list)\n",
    "        sort_012(input_list)\n",
    "        self.assertEqual(input_list, sorted_list)\n",
    "        \n",
    "        input_list = []\n",
    "        sorted_list = sorted(input_list)\n",
    "        sort_012(input_list)\n",
    "        self.assertEqual(input_list, sorted_list)\n",
    "        \n",
    "        input_list = [0, 0, 0]\n",
    "        sorted_list = sorted(input_list)\n",
    "        sort_012(input_list)\n",
    "        self.assertEqual(input_list, sorted_list)\n",
    "        \n",
    "        input_list = [1, 1, 1]\n",
    "        sorted_list = sorted(input_list)\n",
    "        sort_012(input_list)\n",
    "        self.assertEqual(input_list, sorted_list)\n",
    "        \n",
    "        input_list = [2, 2, 2]\n",
    "        sorted_list = sorted(input_list)\n",
    "        sort_012(input_list)\n",
    "        self.assertEqual(input_list, sorted_list)\n",
    "        \n",
    "        input_list = [0]\n",
    "        sorted_list = sorted(input_list)\n",
    "        sort_012(input_list)\n",
    "        self.assertEqual(input_list, sorted_list)\n",
    "        \n",
    "        input_list = [1]\n",
    "        sorted_list = sorted(input_list)\n",
    "        sort_012(input_list)\n",
    "        self.assertEqual(input_list, sorted_list)\n",
    "        \n",
    "        input_list = [2]\n",
    "        sorted_list = sorted(input_list)\n",
    "        sort_012(input_list)\n",
    "        self.assertEqual(input_list, sorted_list)\n",
    "        \n",
    "        input_list = [2, 1, 2, 0, 0, 2, 1, 0, 1, 0, 0, 2, 2, 2, 1, 2, 0, 0, 0, 2, 1, 0, 2, 0, 0, 1]\n",
    "        sorted_list = sorted(input_list)\n",
    "        sort_012(input_list)\n",
    "        self.assertEqual(input_list, sorted_list)\n",
    "        \n",
    "        input_list = [0, 0, 0, 0, 0, 0, 1, 1, 1, 1, 1, 1, 2, 2, 2, 2, 2, 2, 2]\n",
    "        sorted_list = sorted(input_list)\n",
    "        sort_012(input_list)\n",
    "        self.assertEqual(input_list, sorted_list)\n",
    "        \n",
    "\n",
    "        \n",
    "unittest.main(argv=[''], verbosity=3, exit=False)"
   ]
  },
  {
   "cell_type": "code",
   "execution_count": null,
   "id": "81b35535",
   "metadata": {},
   "outputs": [],
   "source": []
  }
 ],
 "metadata": {
  "kernelspec": {
   "display_name": "env_deep_py3",
   "language": "python",
   "name": "env_deep_py3"
  },
  "language_info": {
   "codemirror_mode": {
    "name": "ipython",
    "version": 3
   },
   "file_extension": ".py",
   "mimetype": "text/x-python",
   "name": "python",
   "nbconvert_exporter": "python",
   "pygments_lexer": "ipython3",
   "version": "3.9.9"
  }
 },
 "nbformat": 4,
 "nbformat_minor": 5
}
