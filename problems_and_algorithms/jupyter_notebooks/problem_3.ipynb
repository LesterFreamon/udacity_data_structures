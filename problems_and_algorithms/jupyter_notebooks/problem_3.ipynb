{
 "cells": [
  {
   "cell_type": "markdown",
   "id": "f9ca96a4",
   "metadata": {},
   "source": [
    "# Rearrange Array Elements\n",
    "\n",
    "Rearrange Array Elements so as to form two number such that their sum is maximum. Return these two numbers. You can assume that all array elements are in the range [0, 9]. The number of digits in both the numbers cannot differ by more than 1. You're not allowed to use any sorting function that Python provides and the expected time complexity is $O(nlog(n))$.\n",
    "\n",
    "for e.g. [1, 2, 3, 4, 5]\n",
    "\n",
    "The expected answer would be [531, 42]. Another expected answer can be [542, 31]. In scenarios such as these when there are more than one possible answers, return any one."
   ]
  },
  {
   "cell_type": "markdown",
   "id": "8d41817b",
   "metadata": {},
   "source": []
  },
  {
   "cell_type": "markdown",
   "id": "e5d8e97a",
   "metadata": {},
   "source": [
    "## Algorithm: \n",
    "\n",
    "We can create a min priority queue be heapifying the input (that would take $O(n)$ time) and then, for $\\frac{n}{2}$ loops we can pop the two min elements, multiply them by $10^{loop\\space num - 1}$ and add them to the numbers we inted to output. Then end result would be the two numbers that will give the maximum sum. The total time will be \n",
    "$$O(n) + \\frac{n}{2} \\cdot O(\\log(n))=O(n\\log(n))$$"
   ]
  },
  {
   "cell_type": "code",
   "execution_count": 9,
   "id": "a73e3087",
   "metadata": {},
   "outputs": [],
   "source": [
    "import heapq\n",
    "from typing import List"
   ]
  },
  {
   "cell_type": "code",
   "execution_count": 12,
   "id": "a32d5490",
   "metadata": {},
   "outputs": [
    {
     "name": "stdout",
     "output_type": "stream",
     "text": [
      "Pass\n",
      "Pass\n"
     ]
    }
   ],
   "source": [
    "def rearrange_digits(input_list: List[int]) -> List[int]:\n",
    "    \"\"\"\n",
    "    Rearrange Array Elements so as to form two number such that their sum is maximum.\n",
    "\n",
    "    Args:\n",
    "       input_list(list): Input List\n",
    "    Returns:\n",
    "       (int),(int): Two maximum sums\n",
    "    \"\"\"\n",
    "    if len(input_list) == 0:\n",
    "        return [0, 0]\n",
    "    \n",
    "    multiply = 1\n",
    "    heapq.heapify(input_list)\n",
    "    first_number = 0\n",
    "    second_number = 0\n",
    "    while len(input_list) > 1:\n",
    "        first_number += multiply * heapq.heappop(input_list)\n",
    "        second_number += multiply * heapq.heappop(input_list)\n",
    "        multiply *= 10\n",
    "    \n",
    "    if len(input_list) == 1:\n",
    "        first_number += multiply * heapq.heappop(input_list)\n",
    "    \n",
    "    return [first_number, second_number]\n",
    "\n",
    "def test_function(test_case):\n",
    "    output = rearrange_digits(test_case[0])\n",
    "    solution = test_case[1]\n",
    "    if sum(output) == sum(solution):\n",
    "        print(\"Pass\")\n",
    "    else:\n",
    "        print(\"Fail\")\n",
    "\n",
    "test_function([[1, 2, 3, 4, 5], [542, 31]])\n",
    "test_case = [[4, 6, 2, 5, 9, 8], [964, 852]]\n",
    "test_function(test_case)"
   ]
  },
  {
   "cell_type": "markdown",
   "id": "9977fa52",
   "metadata": {},
   "source": [
    "## efficiency\n",
    "\n",
    "### Runtime:\n",
    "As written in the description of the algorithm, the runtime would be $O(n\\cdot\\log(n))$\n",
    "### Space:\n",
    "Since we are heapifying the input array inplace, the additional space required is $O(1)$"
   ]
  },
  {
   "cell_type": "code",
   "execution_count": 13,
   "id": "778c671b",
   "metadata": {},
   "outputs": [
    {
     "name": "stderr",
     "output_type": "stream",
     "text": [
      "test_rearrange_digits (__main__.TestProblems) ... ok\n",
      "\n",
      "----------------------------------------------------------------------\n",
      "Ran 1 test in 0.001s\n",
      "\n",
      "OK\n"
     ]
    },
    {
     "data": {
      "text/plain": [
       "<unittest.main.TestProgram at 0x10ead4fd0>"
      ]
     },
     "execution_count": 13,
     "metadata": {},
     "output_type": "execute_result"
    }
   ],
   "source": [
    "import unittest\n",
    "\n",
    "\n",
    "class TestProblems(unittest.TestCase):\n",
    "    def test_rearrange_digits(self):\n",
    "        self.assertEqual(sum(rearrange_digits([1, 2, 3, 4, 5])), sum([542, 31]))\n",
    "        self.assertEqual(sum(rearrange_digits([4, 6, 2, 5, 9, 8])), sum([964, 852]))\n",
    "        self.assertEqual(sum(rearrange_digits([1, 2])), sum([1, 2]))\n",
    "        self.assertEqual(sum(rearrange_digits([1])), sum([1, 0]))\n",
    "        self.assertEqual(sum(rearrange_digits([])), sum([0, 0]))\n",
    "        self.assertEqual(sum(rearrange_digits([0, 2, 3, 4])), sum([40, 32]))\n",
    "\n",
    "        \n",
    "    \n",
    "\n",
    "        \n",
    "unittest.main(argv=[''], verbosity=3, exit=False)"
   ]
  },
  {
   "cell_type": "code",
   "execution_count": null,
   "id": "2ffa0126",
   "metadata": {},
   "outputs": [],
   "source": []
  }
 ],
 "metadata": {
  "kernelspec": {
   "display_name": "env_deep_py3",
   "language": "python",
   "name": "env_deep_py3"
  },
  "language_info": {
   "codemirror_mode": {
    "name": "ipython",
    "version": 3
   },
   "file_extension": ".py",
   "mimetype": "text/x-python",
   "name": "python",
   "nbconvert_exporter": "python",
   "pygments_lexer": "ipython3",
   "version": "3.9.9"
  }
 },
 "nbformat": 4,
 "nbformat_minor": 5
}
