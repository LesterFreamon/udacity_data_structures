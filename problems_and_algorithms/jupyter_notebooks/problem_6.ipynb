{
 "cells": [
  {
   "cell_type": "markdown",
   "id": "0efa0316",
   "metadata": {},
   "source": [
    "# Max and Min in a Unsorted Array\n",
    "In this problem, we will look for smallest and largest integer from a list of unsorted integers. The code should run in $O(n)$ time. Do not use Python's inbuilt functions to find min and max.\n",
    "\n",
    "Bonus Challenge: Is it possible to find the max and min in a single traversal?"
   ]
  },
  {
   "cell_type": "markdown",
   "id": "2a6cb3e3",
   "metadata": {},
   "source": [
    "## Algorithm: \n",
    "\n",
    "We can initialize a min number $=\\infty$ and a max number $=-\\infty$. Then, we traverse the list and compare take assign, each iteration $maxNumber=max(maxNumber, thisNumber)$ and $minNumber=min(minNumber, thisNumber)$. In case the list is empty, we will return a tuple of None."
   ]
  },
  {
   "cell_type": "code",
   "execution_count": 20,
   "id": "f0f1b5fd",
   "metadata": {},
   "outputs": [],
   "source": [
    "from typing import List, Tuple"
   ]
  },
  {
   "cell_type": "code",
   "execution_count": 21,
   "id": "1adeda07",
   "metadata": {},
   "outputs": [],
   "source": [
    "def get_min_max(numbers: List[int]) -> Tuple[int, int]:\n",
    "    \"\"\"\n",
    "    Return a tuple(min, max) out of list of unsorted integers.\n",
    "\n",
    "    Args:\n",
    "       ints(list): list of integers containing one or more integers\n",
    "    \"\"\"\n",
    "    if len(numbers) == 0:\n",
    "        return (None, None)\n",
    "    \n",
    "    \n",
    "    min_number = float('inf')\n",
    "    max_number = float('-inf')\n",
    "    for number in numbers:\n",
    "        min_number = min(min_number, number)\n",
    "        max_number = max(max_number, number)\n",
    "        \n",
    "    return min_number, max_number"
   ]
  },
  {
   "cell_type": "code",
   "execution_count": 22,
   "id": "e52830a1",
   "metadata": {},
   "outputs": [
    {
     "name": "stdout",
     "output_type": "stream",
     "text": [
      "Pass\n"
     ]
    }
   ],
   "source": [
    "## Example Test Case of Ten Integers\n",
    "import random\n",
    "\n",
    "l = [i for i in range(0, 10)]  # a list containing 0 - 9\n",
    "random.shuffle(l)\n",
    "\n",
    "print (\"Pass\" if ((0, 9) == get_min_max(l)) else \"Fail\")"
   ]
  },
  {
   "cell_type": "markdown",
   "id": "1b3b5658",
   "metadata": {},
   "source": [
    "## efficiency\n",
    "\n",
    "### Runtime:\n",
    "We traverse the list once, so the runtime is $O(n)$\n",
    "\n",
    "### Space:\n",
    "We only keep track of min_num and max_num, so the additional space needed is $O(1)$"
   ]
  },
  {
   "cell_type": "code",
   "execution_count": 23,
   "id": "b1eaa9d5",
   "metadata": {},
   "outputs": [
    {
     "name": "stderr",
     "output_type": "stream",
     "text": [
      "test_get_min_max (__main__.TestProblems) ... ok\n",
      "\n",
      "----------------------------------------------------------------------\n",
      "Ran 1 test in 0.001s\n",
      "\n",
      "OK\n"
     ]
    },
    {
     "data": {
      "text/plain": [
       "<unittest.main.TestProgram at 0x109264190>"
      ]
     },
     "execution_count": 23,
     "metadata": {},
     "output_type": "execute_result"
    }
   ],
   "source": [
    "import unittest\n",
    "\n",
    "\n",
    "class TestProblems(unittest.TestCase):\n",
    "    def test_get_min_max(self):\n",
    "        self.assertTupleEqual(get_min_max([]), (None, None))\n",
    "        self.assertTupleEqual(get_min_max([10]), (10, 10))\n",
    "        self.assertTupleEqual(get_min_max([i for i in range(0, 10)]), (0, 9))\n",
    "        self.assertTupleEqual(get_min_max([0, 0, 0, 0]), (0, 0))\n",
    "        self.assertTupleEqual(get_min_max([124, 23 ,3, -33, 3, -6, 43]), (-33, 124))\n",
    "        self.assertTupleEqual(get_min_max([3, 2, 5, 1, 24, 6]), (1, 24))\n",
    "        self.assertTupleEqual(get_min_max([1, 2, 3]), (1, 3))\n",
    "\n",
    "\n",
    "        \n",
    "    \n",
    "\n",
    "        \n",
    "unittest.main(argv=[''], verbosity=3, exit=False)"
   ]
  },
  {
   "cell_type": "code",
   "execution_count": null,
   "id": "c6f987c4",
   "metadata": {},
   "outputs": [],
   "source": []
  }
 ],
 "metadata": {
  "kernelspec": {
   "display_name": "env_deep_py3",
   "language": "python",
   "name": "env_deep_py3"
  },
  "language_info": {
   "codemirror_mode": {
    "name": "ipython",
    "version": 3
   },
   "file_extension": ".py",
   "mimetype": "text/x-python",
   "name": "python",
   "nbconvert_exporter": "python",
   "pygments_lexer": "ipython3",
   "version": "3.9.9"
  }
 },
 "nbformat": 4,
 "nbformat_minor": 5
}
